{
 "cells": [
  {
   "cell_type": "code",
   "execution_count": 11,
   "id": "f0fb63fd-3079-48fa-a2f3-ee13eec8718e",
   "metadata": {},
   "outputs": [
    {
     "name": "stdout",
     "output_type": "stream",
     "text": [
      "Requirement already satisfied: pip in c:\\users\\srini\\anaconda3\\lib\\site-packages (25.2)\n"
     ]
    }
   ],
   "source": [
    "!pip install --upgrade pip"
   ]
  },
  {
   "cell_type": "code",
   "execution_count": 13,
   "id": "008a8d58-6a29-42b5-a408-b10bbc8135f4",
   "metadata": {},
   "outputs": [
    {
     "name": "stdout",
     "output_type": "stream",
     "text": [
      "Requirement already satisfied: numpy in c:\\users\\srini\\anaconda3\\lib\\site-packages (2.3.2)\n"
     ]
    }
   ],
   "source": [
    "!pip install --upgrade numpy"
   ]
  },
  {
   "cell_type": "code",
   "execution_count": 15,
   "id": "7ce80ae9-8c7e-48af-a894-e3e05ebca877",
   "metadata": {},
   "outputs": [
    {
     "name": "stdout",
     "output_type": "stream",
     "text": [
      "Requirement already satisfied: h5py in c:\\users\\srini\\anaconda3\\lib\\site-packages (3.14.0)\n",
      "Requirement already satisfied: numpy>=1.19.3 in c:\\users\\srini\\anaconda3\\lib\\site-packages (from h5py) (2.3.2)\n"
     ]
    }
   ],
   "source": [
    "!pip install --upgrade h5py"
   ]
  },
  {
   "cell_type": "code",
   "execution_count": 17,
   "id": "a18f5e51-7cb3-44e9-80ea-60575ceef551",
   "metadata": {},
   "outputs": [
    {
     "name": "stdout",
     "output_type": "stream",
     "text": [
      "Requirement already satisfied: spacy in c:\\users\\srini\\anaconda3\\lib\\site-packages (3.8.7)\n",
      "Requirement already satisfied: pdfplumber in c:\\users\\srini\\anaconda3\\lib\\site-packages (0.11.7)\n",
      "Requirement already satisfied: python-docx in c:\\users\\srini\\anaconda3\\lib\\site-packages (1.2.0)\n",
      "Requirement already satisfied: spacy-legacy<3.1.0,>=3.0.11 in c:\\users\\srini\\anaconda3\\lib\\site-packages (from spacy) (3.0.12)\n",
      "Requirement already satisfied: spacy-loggers<2.0.0,>=1.0.0 in c:\\users\\srini\\anaconda3\\lib\\site-packages (from spacy) (1.0.5)\n",
      "Requirement already satisfied: murmurhash<1.1.0,>=0.28.0 in c:\\users\\srini\\anaconda3\\lib\\site-packages (from spacy) (1.0.13)\n",
      "Requirement already satisfied: cymem<2.1.0,>=2.0.2 in c:\\users\\srini\\anaconda3\\lib\\site-packages (from spacy) (2.0.11)\n",
      "Requirement already satisfied: preshed<3.1.0,>=3.0.2 in c:\\users\\srini\\anaconda3\\lib\\site-packages (from spacy) (3.0.10)\n",
      "Requirement already satisfied: thinc<8.4.0,>=8.3.4 in c:\\users\\srini\\anaconda3\\lib\\site-packages (from spacy) (8.3.6)\n",
      "Requirement already satisfied: wasabi<1.2.0,>=0.9.1 in c:\\users\\srini\\anaconda3\\lib\\site-packages (from spacy) (1.1.3)\n",
      "Requirement already satisfied: srsly<3.0.0,>=2.4.3 in c:\\users\\srini\\anaconda3\\lib\\site-packages (from spacy) (2.5.1)\n",
      "Requirement already satisfied: catalogue<2.1.0,>=2.0.6 in c:\\users\\srini\\anaconda3\\lib\\site-packages (from spacy) (2.0.10)\n",
      "Requirement already satisfied: weasel<0.5.0,>=0.1.0 in c:\\users\\srini\\anaconda3\\lib\\site-packages (from spacy) (0.4.1)\n",
      "Requirement already satisfied: typer<1.0.0,>=0.3.0 in c:\\users\\srini\\anaconda3\\lib\\site-packages (from spacy) (0.16.1)\n",
      "Requirement already satisfied: tqdm<5.0.0,>=4.38.0 in c:\\users\\srini\\anaconda3\\lib\\site-packages (from spacy) (4.66.4)\n",
      "Requirement already satisfied: numpy>=1.19.0 in c:\\users\\srini\\anaconda3\\lib\\site-packages (from spacy) (2.3.2)\n",
      "Requirement already satisfied: requests<3.0.0,>=2.13.0 in c:\\users\\srini\\anaconda3\\lib\\site-packages (from spacy) (2.32.2)\n",
      "Requirement already satisfied: pydantic!=1.8,!=1.8.1,<3.0.0,>=1.7.4 in c:\\users\\srini\\anaconda3\\lib\\site-packages (from spacy) (2.5.3)\n",
      "Requirement already satisfied: jinja2 in c:\\users\\srini\\anaconda3\\lib\\site-packages (from spacy) (3.1.4)\n",
      "Requirement already satisfied: setuptools in c:\\users\\srini\\anaconda3\\lib\\site-packages (from spacy) (69.5.1)\n",
      "Requirement already satisfied: packaging>=20.0 in c:\\users\\srini\\anaconda3\\lib\\site-packages (from spacy) (23.2)\n",
      "Requirement already satisfied: langcodes<4.0.0,>=3.2.0 in c:\\users\\srini\\anaconda3\\lib\\site-packages (from spacy) (3.5.0)\n",
      "Requirement already satisfied: language-data>=1.2 in c:\\users\\srini\\anaconda3\\lib\\site-packages (from langcodes<4.0.0,>=3.2.0->spacy) (1.3.0)\n",
      "Requirement already satisfied: annotated-types>=0.4.0 in c:\\users\\srini\\anaconda3\\lib\\site-packages (from pydantic!=1.8,!=1.8.1,<3.0.0,>=1.7.4->spacy) (0.6.0)\n",
      "Requirement already satisfied: pydantic-core==2.14.6 in c:\\users\\srini\\anaconda3\\lib\\site-packages (from pydantic!=1.8,!=1.8.1,<3.0.0,>=1.7.4->spacy) (2.14.6)\n",
      "Requirement already satisfied: typing-extensions>=4.6.1 in c:\\users\\srini\\anaconda3\\lib\\site-packages (from pydantic!=1.8,!=1.8.1,<3.0.0,>=1.7.4->spacy) (4.11.0)\n",
      "Requirement already satisfied: charset-normalizer<4,>=2 in c:\\users\\srini\\anaconda3\\lib\\site-packages (from requests<3.0.0,>=2.13.0->spacy) (2.0.4)\n",
      "Requirement already satisfied: idna<4,>=2.5 in c:\\users\\srini\\anaconda3\\lib\\site-packages (from requests<3.0.0,>=2.13.0->spacy) (2.10)\n",
      "Requirement already satisfied: urllib3<3,>=1.21.1 in c:\\users\\srini\\anaconda3\\lib\\site-packages (from requests<3.0.0,>=2.13.0->spacy) (2.2.2)\n",
      "Requirement already satisfied: certifi>=2017.4.17 in c:\\users\\srini\\anaconda3\\lib\\site-packages (from requests<3.0.0,>=2.13.0->spacy) (2024.12.14)\n",
      "Requirement already satisfied: blis<1.4.0,>=1.3.0 in c:\\users\\srini\\anaconda3\\lib\\site-packages (from thinc<8.4.0,>=8.3.4->spacy) (1.3.0)\n",
      "Requirement already satisfied: confection<1.0.0,>=0.0.1 in c:\\users\\srini\\anaconda3\\lib\\site-packages (from thinc<8.4.0,>=8.3.4->spacy) (0.1.5)\n",
      "Requirement already satisfied: colorama in c:\\users\\srini\\anaconda3\\lib\\site-packages (from tqdm<5.0.0,>=4.38.0->spacy) (0.4.6)\n",
      "Requirement already satisfied: click>=8.0.0 in c:\\users\\srini\\anaconda3\\lib\\site-packages (from typer<1.0.0,>=0.3.0->spacy) (8.1.7)\n",
      "Requirement already satisfied: shellingham>=1.3.0 in c:\\users\\srini\\anaconda3\\lib\\site-packages (from typer<1.0.0,>=0.3.0->spacy) (1.5.4)\n",
      "Requirement already satisfied: rich>=10.11.0 in c:\\users\\srini\\anaconda3\\lib\\site-packages (from typer<1.0.0,>=0.3.0->spacy) (13.3.5)\n",
      "Requirement already satisfied: cloudpathlib<1.0.0,>=0.7.0 in c:\\users\\srini\\anaconda3\\lib\\site-packages (from weasel<0.5.0,>=0.1.0->spacy) (0.21.1)\n",
      "Requirement already satisfied: smart-open<8.0.0,>=5.2.1 in c:\\users\\srini\\anaconda3\\lib\\site-packages (from weasel<0.5.0,>=0.1.0->spacy) (5.2.1)\n",
      "Requirement already satisfied: pdfminer.six==20250506 in c:\\users\\srini\\anaconda3\\lib\\site-packages (from pdfplumber) (20250506)\n",
      "Requirement already satisfied: Pillow>=9.1 in c:\\users\\srini\\anaconda3\\lib\\site-packages (from pdfplumber) (10.3.0)\n",
      "Requirement already satisfied: pypdfium2>=4.18.0 in c:\\users\\srini\\anaconda3\\lib\\site-packages (from pdfplumber) (4.30.0)\n",
      "Requirement already satisfied: cryptography>=36.0.0 in c:\\users\\srini\\anaconda3\\lib\\site-packages (from pdfminer.six==20250506->pdfplumber) (42.0.5)\n",
      "Requirement already satisfied: lxml>=3.1.0 in c:\\users\\srini\\anaconda3\\lib\\site-packages (from python-docx) (5.2.1)\n",
      "Requirement already satisfied: cffi>=1.12 in c:\\users\\srini\\anaconda3\\lib\\site-packages (from cryptography>=36.0.0->pdfminer.six==20250506->pdfplumber) (1.16.0)\n",
      "Requirement already satisfied: pycparser in c:\\users\\srini\\anaconda3\\lib\\site-packages (from cffi>=1.12->cryptography>=36.0.0->pdfminer.six==20250506->pdfplumber) (2.21)\n",
      "Requirement already satisfied: marisa-trie>=1.1.0 in c:\\users\\srini\\anaconda3\\lib\\site-packages (from language-data>=1.2->langcodes<4.0.0,>=3.2.0->spacy) (1.3.0)\n",
      "Requirement already satisfied: markdown-it-py<3.0.0,>=2.2.0 in c:\\users\\srini\\anaconda3\\lib\\site-packages (from rich>=10.11.0->typer<1.0.0,>=0.3.0->spacy) (2.2.0)\n",
      "Requirement already satisfied: pygments<3.0.0,>=2.13.0 in c:\\users\\srini\\anaconda3\\lib\\site-packages (from rich>=10.11.0->typer<1.0.0,>=0.3.0->spacy) (2.15.1)\n",
      "Requirement already satisfied: mdurl~=0.1 in c:\\users\\srini\\anaconda3\\lib\\site-packages (from markdown-it-py<3.0.0,>=2.2.0->rich>=10.11.0->typer<1.0.0,>=0.3.0->spacy) (0.1.0)\n",
      "Requirement already satisfied: MarkupSafe>=2.0 in c:\\users\\srini\\anaconda3\\lib\\site-packages (from jinja2->spacy) (2.1.3)\n"
     ]
    }
   ],
   "source": [
    "!pip install --upgrade spacy pdfplumber python-docx"
   ]
  },
  {
   "cell_type": "code",
   "execution_count": 19,
   "id": "82804281-8396-4dae-9c63-63eb75032512",
   "metadata": {},
   "outputs": [
    {
     "name": "stdout",
     "output_type": "stream",
     "text": [
      "Collecting en-core-web-sm==3.8.0\n",
      "  Downloading https://github.com/explosion/spacy-models/releases/download/en_core_web_sm-3.8.0/en_core_web_sm-3.8.0-py3-none-any.whl (12.8 MB)\n",
      "     ---------------------------------------- 0.0/12.8 MB ? eta -:--:--\n",
      "     - -------------------------------------- 0.5/12.8 MB 4.2 MB/s eta 0:00:03\n",
      "     -- ------------------------------------- 0.8/12.8 MB 2.8 MB/s eta 0:00:05\n",
      "     --- ------------------------------------ 1.0/12.8 MB 2.2 MB/s eta 0:00:06\n",
      "     ---- ----------------------------------- 1.3/12.8 MB 1.5 MB/s eta 0:00:08\n",
      "     ---- ----------------------------------- 1.3/12.8 MB 1.5 MB/s eta 0:00:08\n",
      "     ---- ----------------------------------- 1.3/12.8 MB 1.5 MB/s eta 0:00:08\n",
      "     ---- ----------------------------------- 1.6/12.8 MB 1.0 MB/s eta 0:00:11\n",
      "     ---- ----------------------------------- 1.6/12.8 MB 1.0 MB/s eta 0:00:11\n",
      "     ----- --------------------------------- 1.8/12.8 MB 931.8 kB/s eta 0:00:12\n",
      "     ----- --------------------------------- 1.8/12.8 MB 931.8 kB/s eta 0:00:12\n",
      "     ------ -------------------------------- 2.1/12.8 MB 876.3 kB/s eta 0:00:13\n",
      "     ------ -------------------------------- 2.1/12.8 MB 876.3 kB/s eta 0:00:13\n",
      "     ------- ------------------------------- 2.4/12.8 MB 813.5 kB/s eta 0:00:13\n",
      "     ------- ------------------------------- 2.4/12.8 MB 813.5 kB/s eta 0:00:13\n",
      "     ------- ------------------------------- 2.4/12.8 MB 813.5 kB/s eta 0:00:13\n",
      "     ------- ------------------------------- 2.6/12.8 MB 743.8 kB/s eta 0:00:14\n",
      "     ------- ------------------------------- 2.6/12.8 MB 743.8 kB/s eta 0:00:14\n",
      "     ------- ------------------------------- 2.6/12.8 MB 743.8 kB/s eta 0:00:14\n",
      "     ------- ------------------------------- 2.6/12.8 MB 743.8 kB/s eta 0:00:14\n",
      "     ------- ------------------------------- 2.6/12.8 MB 743.8 kB/s eta 0:00:14\n",
      "     -------- ------------------------------ 2.9/12.8 MB 614.5 kB/s eta 0:00:17\n",
      "     -------- ------------------------------ 2.9/12.8 MB 614.5 kB/s eta 0:00:17\n",
      "     -------- ------------------------------ 2.9/12.8 MB 614.5 kB/s eta 0:00:17\n",
      "     --------- ----------------------------- 3.1/12.8 MB 589.6 kB/s eta 0:00:17\n",
      "     --------- ----------------------------- 3.1/12.8 MB 589.6 kB/s eta 0:00:17\n",
      "     --------- ----------------------------- 3.1/12.8 MB 589.6 kB/s eta 0:00:17\n",
      "     ---------- ---------------------------- 3.4/12.8 MB 557.7 kB/s eta 0:00:17\n",
      "     ----------- --------------------------- 3.7/12.8 MB 577.0 kB/s eta 0:00:16\n",
      "     ----------- --------------------------- 3.7/12.8 MB 577.0 kB/s eta 0:00:16\n",
      "     ----------- --------------------------- 3.9/12.8 MB 588.6 kB/s eta 0:00:16\n",
      "     ------------ -------------------------- 4.2/12.8 MB 606.3 kB/s eta 0:00:15\n",
      "     ------------- ------------------------- 4.5/12.8 MB 624.2 kB/s eta 0:00:14\n",
      "     -------------- ------------------------ 4.7/12.8 MB 642.3 kB/s eta 0:00:13\n",
      "     --------------- ----------------------- 5.0/12.8 MB 662.3 kB/s eta 0:00:12\n",
      "     --------------- ----------------------- 5.2/12.8 MB 684.1 kB/s eta 0:00:12\n",
      "     ----------------- --------------------- 5.8/12.8 MB 726.4 kB/s eta 0:00:10\n",
      "     ------------------ -------------------- 6.0/12.8 MB 747.1 kB/s eta 0:00:10\n",
      "     ------------------- ------------------- 6.6/12.8 MB 787.9 kB/s eta 0:00:08\n",
      "     --------------------- ----------------- 7.1/12.8 MB 824.6 kB/s eta 0:00:07\n",
      "     ---------------------- ---------------- 7.3/12.8 MB 834.2 kB/s eta 0:00:07\n",
      "     ----------------------- --------------- 7.6/12.8 MB 855.7 kB/s eta 0:00:07\n",
      "     ------------------------ -------------- 8.1/12.8 MB 887.6 kB/s eta 0:00:06\n",
      "     -------------------------- ------------ 8.7/12.8 MB 925.6 kB/s eta 0:00:05\n",
      "     --------------------------- ----------- 9.2/12.8 MB 960.3 kB/s eta 0:00:04\n",
      "     ----------------------------- --------- 9.7/12.8 MB 991.7 kB/s eta 0:00:04\n",
      "     ------------------------------- -------- 10.2/12.8 MB 1.0 MB/s eta 0:00:03\n",
      "     --------------------------------- ------ 10.7/12.8 MB 1.0 MB/s eta 0:00:02\n",
      "     ----------------------------------- ---- 11.3/12.8 MB 1.1 MB/s eta 0:00:02\n",
      "     ------------------------------------ --- 11.8/12.8 MB 1.1 MB/s eta 0:00:01\n",
      "     -------------------------------------- - 12.3/12.8 MB 1.1 MB/s eta 0:00:01\n",
      "     ---------------------------------------  12.6/12.8 MB 1.1 MB/s eta 0:00:01\n",
      "     ---------------------------------------- 12.8/12.8 MB 1.1 MB/s  0:00:11\n",
      "\u001b[38;5;2m[+] Download and installation successful\u001b[0m\n",
      "You can now load the package via spacy.load('en_core_web_sm')\n"
     ]
    }
   ],
   "source": [
    "!python -m spacy download en_core_web_sm"
   ]
  },
  {
   "cell_type": "code",
   "execution_count": 9,
   "id": "83af190a-b7c5-4421-b26c-2b89b3e33480",
   "metadata": {},
   "outputs": [],
   "source": [
    "import spacy\n",
    "import pdfplumber\n",
    "import docx\n",
    "from tkinter import Tk, filedialog"
   ]
  },
  {
   "cell_type": "code",
   "execution_count": 11,
   "id": "acc52caf-a5b8-41ff-8221-0642508e9c95",
   "metadata": {},
   "outputs": [
    {
     "data": {
      "text/plain": [
       "'C:/Users/srini/Downloads/Resume_Nakshatra_Btech-AIML.pdf'"
      ]
     },
     "execution_count": 11,
     "metadata": {},
     "output_type": "execute_result"
    }
   ],
   "source": [
    "# Open file picker\n",
    "Tk().withdraw()  # Hide root window\n",
    "file_path = filedialog.askopenfilename(\n",
    "    title=\"Select Resume File\",\n",
    "    filetypes=[(\"PDF files\", \"*.pdf\"), (\"Word files\", \"*.docx\")]\n",
    ")\n",
    "file_path"
   ]
  },
  {
   "cell_type": "code",
   "execution_count": 13,
   "id": "4116c29a-c70f-42d7-ad8b-156535420ca6",
   "metadata": {},
   "outputs": [
    {
     "name": "stdout",
     "output_type": "stream",
     "text": [
      "NAKSHATRA SAMALA\n",
      "Bachelor of Technology (B.Tech) – AIML Final Year Student | AI & ML, Cloud & DevOps Enthusiast\n",
      "+91-7416438600 Karimnagar, Telangana\n",
      "nakshatras183@gmail.com in https://linkedin.com/in/nakshatrasamala/\n",
      "(cid:34380)(cid:34375)(cid:34376)(cid:34377)(cid:34378)(cid:34379) CAREER OBJECTIVE\n",
      "Motivated and detail-oriented final-year Bachelor of Technology student with a specialization in Artificial Intelligence and Machine\n",
      "Learning (AL & ML). Passionate about building intelligent systems that drive innovation and solve real-world problems. Seeking a\n",
      "challenging internship or entry-level role where I can apply my skills in AL, ML, deep learning, Cloud and DevOps to contribute\n",
      "meaningfully to cutting-edge projects while continuing to grow as a technology professional.\n",
      "(cid:34231)(cid:34232)(cid:34233) EDUCATION\n",
      " Pursuing final year Bachelor of Technology (B.Tech) – AIML from Trinity College of Engineering & Technology, Karimnagar\n",
      "(Affiliated to JNTU, Hyderabad) | Expected Graduat\n"
     ]
    }
   ],
   "source": [
    "def extract_text_from_pdf(file_path):\n",
    "    text = \"\"\n",
    "    with pdfplumber.open(file_path) as pdf:\n",
    "        for page in pdf.pages:\n",
    "            if page.extract_text():\n",
    "                text += page.extract_text() + \"\\n\"\n",
    "    return text\n",
    "\n",
    "def extract_text_from_docx(file_path):\n",
    "    doc = docx.Document(file_path)\n",
    "    return \"\\n\".join([para.text for para in doc.paragraphs])\n",
    "\n",
    "# Detect format\n",
    "if file_path.endswith(\".pdf\"):\n",
    "    resume_text = extract_text_from_pdf(file_path)\n",
    "elif file_path.endswith(\".docx\"):\n",
    "    resume_text = extract_text_from_docx(file_path)\n",
    "else:\n",
    "    resume_text = \"\"\n",
    "\n",
    "print(resume_text[:1000])  # Show first 1000 chars"
   ]
  },
  {
   "cell_type": "code",
   "execution_count": 25,
   "id": "3ef28c83-1a63-4f8b-bad1-4847b1bd3a84",
   "metadata": {},
   "outputs": [
    {
     "data": {
      "text/plain": [
       "{'name': 'Cloud',\n",
       " 'email': None,\n",
       " 'phone': None,\n",
       " 'skills': 'Programming Languages: Python, Django Framework, Java, C, C++, Databases: SQL Server, DBMS, Tech Stack: Python, Pandas, NumPy, Scikit-learn, TensorFlow/Keras, Matplotlib, Seaborn, Jupyter Notebook., \\uf0b7 Performed data preprocessing, feature engineering, and time series analysis using Python libraries such as Pandas, NumPy, Scikit-, Tech Stack: Python, Speech Recognition module, API key, Google Generative AI, Tkinter, Docx library',\n",
       " 'education': 'Bachelor of Technology (B.Tech) – AIML Final Year Student | AI & ML, Cloud & DevOps Enthusiast, Motivated and detail-oriented final-year Bachelor of Technology student with a specialization in Artificial Intelligence and Machine, \\uf0b7 Pursuing final year Bachelor of Technology (B.Tech) – AIML from Trinity College of Engineering & Technology, Karimnagar',\n",
       " 'experience': 'challenging internship or entry-level role where I can apply my skills in AL, ML, deep learning, Cloud and DevOps to contribute, \\uf0b7 Machine Learning, Internet of Things, Deep Learning, Computer Vision and SAP Advanced Business Application Programming (ABAP)'}"
      ]
     },
     "execution_count": 25,
     "metadata": {},
     "output_type": "execute_result"
    }
   ],
   "source": [
    "nlp = spacy.load(\"en_core_web_sm\")\n",
    "\n",
    "def parse_resume(text):\n",
    "    doc = nlp(text)\n",
    "    name, email, phone = None, None, None\n",
    "    skills, education, experience = [], [], []\n",
    "\n",
    "    for ent in doc.ents:\n",
    "        if ent.label_ == \"PERSON\" and not name:\n",
    "            name = ent.text\n",
    "        elif ent.label_ == \"EMAIL\":\n",
    "            email = ent.text\n",
    "        elif ent.label_ == \"PHONE\":\n",
    "            phone = ent.text\n",
    "\n",
    "    # Simple keyword-based rules\n",
    "    for line in text.split(\"\\n\"):\n",
    "        if any(word in line for word in [\"B.Tech\", \"M.Tech\", \"Bachelor\", \"Master\"]):\n",
    "            education.append(line)\n",
    "        if \"experience\" in line.lower() or \"intern\" in line.lower():\n",
    "            experience.append(line)\n",
    "        if any(skill in line for skill in [\"Python\", \"SQL\", \"Java\", \"C++\"]):\n",
    "            skills.append(line)\n",
    "\n",
    "    return {\n",
    "        \"name\": name,\n",
    "        \"email\": email,\n",
    "        \"phone\": phone,\n",
    "        \"skills\": \", \".join(skills),\n",
    "        \"education\": \", \".join(education),\n",
    "        \"experience\": \", \".join(experience)\n",
    "    }\n",
    "\n",
    "parsed_resume = parse_resume(resume_text)\n",
    "parsed_resume"
   ]
  },
  {
   "cell_type": "code",
   "execution_count": null,
   "id": "ae5e6684-de1d-47b8-a196-ef1ac3e8b068",
   "metadata": {},
   "outputs": [],
   "source": []
  }
 ],
 "metadata": {
  "kernelspec": {
   "display_name": "Python 3 (ipykernel)",
   "language": "python",
   "name": "python3"
  },
  "language_info": {
   "codemirror_mode": {
    "name": "ipython",
    "version": 3
   },
   "file_extension": ".py",
   "mimetype": "text/x-python",
   "name": "python",
   "nbconvert_exporter": "python",
   "pygments_lexer": "ipython3",
   "version": "3.12.3"
  }
 },
 "nbformat": 4,
 "nbformat_minor": 5
}
